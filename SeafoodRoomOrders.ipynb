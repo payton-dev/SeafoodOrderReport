{
 "cells": [
  {
   "cell_type": "code",
   "execution_count": 1,
   "metadata": {},
   "outputs": [],
   "source": [
    "import xlsxwriter\n",
    "import pandas as pd\n",
    "\n",
    "#import Seafood Codes - SEAFOODCODELIST.csv\n",
    "#INV>Inv Report>Quick List\n",
    "#User Define Class 16 only\n",
    "#Export as CSV to \"SEAFOODCODELIST.csv\"\n",
    "\n",
    "\n",
    "#imports codes and preps DF\n",
    "codelists = pd.read_csv('SEAFOODCODELIST.csv',dtype={'order_no': object})\n",
    "keep_col = ['product_id','category']\n",
    "codelist1 = codelists[keep_col]\n",
    "codelist2 = codelist1.loc[(codelist1.category == 16)]\n",
    "\n",
    "#codelist2.to_csv('Partcodelist.csv', index=False)\n",
    "#Add in Frozen Codes to DF\n",
    "new_row = {'product_id':201178, 'category':15}\n",
    "new_row1 = {'product_id':201330, 'category':15}\n",
    "\n",
    "codelist2 = codelist2.append(new_row, ignore_index=True)\n",
    "codelist3 = codelist2.append(new_row1, ignore_index=True)\n"
   ]
  },
  {
   "cell_type": "code",
   "execution_count": 2,
   "metadata": {},
   "outputs": [
    {
     "name": "stderr",
     "output_type": "stream",
     "text": [
      "C:\\Users\\pjama\\anaconda3\\lib\\site-packages\\ipykernel_launcher.py:27: SettingWithCopyWarning: \n",
      "A value is trying to be set on a copy of a slice from a DataFrame.\n",
      "Try using .loc[row_indexer,col_indexer] = value instead\n",
      "\n",
      "See the caveats in the documentation: https://pandas.pydata.org/pandas-docs/stable/user_guide/indexing.html#returning-a-view-versus-a-copy\n"
     ]
    }
   ],
   "source": [
    "#import Order Demand DEMAND.CSV\n",
    "#Production Scale > Demand Butto,\n",
    "#Select Today Date and Tomorrow Date\n",
    "#Print All > Export as CSV to \"DEMAND.CSV\"\n",
    "\n",
    "#Converts columns to proper dtypes and rename\n",
    "demand = pd.read_csv('DEMAND.csv',dtype={'product_id': object, 'refno': object,'ord_qty': str})\n",
    "demand['order_no'] = demand['refno']\n",
    "\n",
    "#Keep columns requred\n",
    "keep_col = ['order_no','product_id','descript','cust_id','comment','ord_qty','shp_unit']\n",
    "demands1 = demand[keep_col]\n",
    "\n",
    "\n",
    "#Merge Code List into Order Demand to get ONLY Orders wanted for seafood room\n",
    "orderlist = pd.merge(codelist3, demands1, how='left', on=\"product_id\")\n",
    "orderlist = orderlist.dropna()\n",
    "\n",
    "#Creates a new DF for Comments to look for rows with a comment\n",
    "comments = orderlist.loc[orderlist['comment'] == 'T']\n",
    "\n",
    "#Keep columns required for merging later\n",
    "keep_col = ['product_id','order_no','descript']\n",
    "comments1 = comments[keep_col]\n",
    "\n",
    "#rename and del\n",
    "comments1['note'] = comments1['descript']\n",
    "keep_col = ['product_id','order_no','descript']\n",
    "comment = comments1\n",
    "\n",
    "#Locate all lines without comment so we can get product desc name as comments get written in said column aswell\n",
    "#Rows with comments get printed with all other info same thats why two different DF are required one T one F for comments\n",
    "order_df = orderlist.loc[orderlist['comment'] == 'F']\n",
    "\n",
    "\n",
    "#Merges commments with main order DF\n",
    "merged_left = pd.merge(left=order_df, right=comment, how='left', left_on=['order_no','product_id'], right_on=['order_no','product_id'])"
   ]
  },
  {
   "cell_type": "code",
   "execution_count": 3,
   "metadata": {},
   "outputs": [],
   "source": [
    "#Imports customer info\n",
    "location = pd.read_csv('CUSTOMERINFO.csv')\n",
    "\n",
    "#Merge Customer info With Orders\n",
    "#Customer name, city, and location type\n",
    "\n",
    "final_data = pd.merge(left=merged_left, right=location, how='left', left_on=['cust_id'], right_on=['cust_id'])"
   ]
  },
  {
   "cell_type": "markdown",
   "metadata": {},
   "source": [
    "REMOVE CODES NOT NEEDED FOR ROOM"
   ]
  },
  {
   "cell_type": "code",
   "execution_count": 4,
   "metadata": {},
   "outputs": [],
   "source": [
    "#Removes codes not required\n",
    "#Other Fresh Seafood Codes\n",
    "\n",
    "to_sort = final_data[final_data.product_id != '200590']\n",
    "to_sort1 = to_sort[to_sort.product_id != '200356']\n",
    "to_sort2 = to_sort1[to_sort1.product_id != '200657']\n",
    "to_sort3 = to_sort2[to_sort2.product_id != '200656']\n",
    "to_sort4 = to_sort3[to_sort3.product_id != '202300']\n",
    "to_sort5 = to_sort4[to_sort4.product_id != '202307']\n",
    "to_sort6 = to_sort5[to_sort5.product_id != '70578']\n",
    "to_sort7 = to_sort6[to_sort6.product_id != '70542']\n",
    "to_sort8 = to_sort7[to_sort7.product_id != '190201']\n",
    "to_sort9 = to_sort8[to_sort8.product_id != '200047']\n",
    "to_sort10 = to_sort9[to_sort9.product_id != '200500']\n",
    "to_sort11 = to_sort10[to_sort10.product_id != '200566']\n",
    "to_sort12 = to_sort11[to_sort11.product_id != '202301']\n",
    "to_sort13 = to_sort12[to_sort12.product_id != '202306']\n",
    "to_sort14 = to_sort13[to_sort13.product_id != '201534']\n",
    "\n",
    "#to_sort.to_csv('tobesorted.csv', index=False)\n"
   ]
  },
  {
   "cell_type": "code",
   "execution_count": 5,
   "metadata": {},
   "outputs": [
    {
     "name": "stderr",
     "output_type": "stream",
     "text": [
      "C:\\Users\\pjama\\anaconda3\\lib\\site-packages\\ipykernel_launcher.py:12: SettingWithCopyWarning: \n",
      "A value is trying to be set on a copy of a slice from a DataFrame.\n",
      "Try using .loc[row_indexer,col_indexer] = value instead\n",
      "\n",
      "See the caveats in the documentation: https://pandas.pydata.org/pandas-docs/stable/user_guide/indexing.html#returning-a-view-versus-a-copy\n",
      "  if sys.path[0] == '':\n",
      "C:\\Users\\pjama\\anaconda3\\lib\\site-packages\\pandas\\core\\generic.py:5303: SettingWithCopyWarning: \n",
      "A value is trying to be set on a copy of a slice from a DataFrame.\n",
      "Try using .loc[row_indexer,col_indexer] = value instead\n",
      "\n",
      "See the caveats in the documentation: https://pandas.pydata.org/pandas-docs/stable/user_guide/indexing.html#returning-a-view-versus-a-copy\n",
      "  self[name] = value\n"
     ]
    }
   ],
   "source": [
    "#import xlsxwriter\n",
    "#import pandas as pd\n",
    "\n",
    "#Clean up DF of extra columns no longer required\n",
    "#df = pd.read_csv('tobesorted.csv')\n",
    "\n",
    "keep_col = ['type','product_id','descript_x','ord_qty','shp_unit','note','company1','city','order_no']\n",
    "sorted1 = to_sort[keep_col]\n",
    "\n",
    "\n",
    "#Create a 'typeno' column for each location 'type'\n",
    "sorted1['typeno'] = sorted1['type']\n",
    "#Define name and type numbers lowest number = highest priority\n",
    "typeno1 = {'VAN': 1,'FREIGHT': 2,'UPISLAND': 3,'TOWN': 4,'LOOKUP':5}\n",
    "#Create number for each type\n",
    "sorted1.typeno = [typeno1[item] for item in sorted1.typeno] \n",
    "\n",
    "#Sort orders\n",
    "#First sort priority: Product ID\n",
    "#Then second sort priority: Type\n",
    "sorted1.groupby(['product_id','type'], as_index=False)\n",
    "\n",
    "#Sort by ascending numbers for both - Get highest priority type first by each product_id\n",
    "sorted_id = sorted1.sort_values(['typeno','product_id'], ascending=[True,True])\n",
    "#Delete Type number as it's only wanted for sorting\n",
    "del sorted_id['typeno']\n",
    "#Commented out can make into csv if wanted - Excel will sort into seperate sheets\n",
    "#sorted_id.to_csv('SeafoodSortedID.csv', index=False)\n",
    "\n",
    "\n",
    "\n",
    "#Creates a list for saving and naming worksheets inside of workbook by product_id\n",
    "sorted_pid = sorted_id['product_id'].unique().tolist()\n",
    "\n",
    "#Writes DF into a excel file and\n",
    "writer = pd.ExcelWriter(\"SeafoodOrderReport.xlsx\", engine='xlsxwriter')\n",
    "\n",
    "workbook  = writer.book\n",
    "workbook.filename = 'SeafoodOrderReport.xlsm'\n",
    "workbook.add_vba_project('./vbaProject.bin')\n",
    "\n",
    "workbook1 = workbook.add_worksheet('Master')\n",
    "\n",
    "# Add a button tied to a macro in the VBA project.\n",
    "workbook1.insert_button('B3', {'AutofitColumns':   'AutofitColumns',\n",
    "                               'caption': 'Press Me',\n",
    "                               'width':   80,\n",
    "                               'height':  30})\n",
    "\n",
    "\n",
    "#Writes each product_id to seperate sheet and names the sheet said product_id\n",
    "for p_id in sorted_pid:\n",
    "    mydf = sorted_id.loc[sorted_id.product_id==p_id]\n",
    "    mydf.to_excel(writer, sheet_name=p_id, index=False)\n",
    "\n",
    "    \n",
    "\n",
    "\n",
    "writer.save()\n"
   ]
  },
  {
   "cell_type": "code",
   "execution_count": null,
   "metadata": {},
   "outputs": [],
   "source": []
  },
  {
   "cell_type": "code",
   "execution_count": null,
   "metadata": {},
   "outputs": [],
   "source": []
  },
  {
   "cell_type": "code",
   "execution_count": null,
   "metadata": {},
   "outputs": [],
   "source": []
  },
  {
   "cell_type": "code",
   "execution_count": null,
   "metadata": {},
   "outputs": [],
   "source": []
  },
  {
   "cell_type": "code",
   "execution_count": null,
   "metadata": {},
   "outputs": [],
   "source": []
  },
  {
   "cell_type": "code",
   "execution_count": null,
   "metadata": {},
   "outputs": [],
   "source": []
  },
  {
   "cell_type": "code",
   "execution_count": null,
   "metadata": {},
   "outputs": [],
   "source": []
  },
  {
   "cell_type": "code",
   "execution_count": null,
   "metadata": {},
   "outputs": [],
   "source": []
  },
  {
   "cell_type": "code",
   "execution_count": null,
   "metadata": {},
   "outputs": [],
   "source": []
  },
  {
   "cell_type": "code",
   "execution_count": null,
   "metadata": {},
   "outputs": [],
   "source": []
  },
  {
   "cell_type": "code",
   "execution_count": null,
   "metadata": {},
   "outputs": [],
   "source": []
  }
 ],
 "metadata": {
  "kernelspec": {
   "display_name": "Python 3",
   "language": "python",
   "name": "python3"
  },
  "language_info": {
   "codemirror_mode": {
    "name": "ipython",
    "version": 3
   },
   "file_extension": ".py",
   "mimetype": "text/x-python",
   "name": "python",
   "nbconvert_exporter": "python",
   "pygments_lexer": "ipython3",
   "version": "3.7.6"
  }
 },
 "nbformat": 4,
 "nbformat_minor": 2
}
